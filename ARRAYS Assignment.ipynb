{
 "cells": [
  {
   "cell_type": "markdown",
   "metadata": {},
   "source": [
    "1. Given an array, check if it contains any duplicates or not.\n",
    "arr = [1, 2, 4, 2, 5, 9]"
   ]
  },
  {
   "cell_type": "code",
   "execution_count": 72,
   "metadata": {},
   "outputs": [
    {
     "name": "stdout",
     "output_type": "stream",
     "text": [
      "True\n"
     ]
    }
   ],
   "source": [
    "# define function\n",
    "def isduplicate(arr):\n",
    "# base condition\n",
    "    for i in range(len(arr)):\n",
    "        for j in range(i + 1, len(arr)):\n",
    "            if arr[i] == arr[j]:\n",
    "                return True\n",
    "    return False\n",
    "#function calling\n",
    "arr = [1,2,4,2,5,9]\n",
    "print(isduplicate(arr))"
   ]
  },
  {
   "cell_type": "markdown",
   "metadata": {},
   "source": [
    "2. Given an array and an integer k, rotate the array to the right by k steps.\n",
    "arr = [1, 2, 3, 4, 5, 6, 7] k = 3"
   ]
  },
  {
   "cell_type": "code",
   "execution_count": 61,
   "metadata": {},
   "outputs": [
    {
     "name": "stdout",
     "output_type": "stream",
     "text": [
      "[5, 6, 7, 1, 2, 3, 4]\n"
     ]
    }
   ],
   "source": [
    "#define function\n",
    "def rotate_array(arr,k):\n",
    "    n = len(arr)\n",
    "    k = k % n # handle cases where k is greater than the array length\n",
    "    \n",
    "    # reverse the last k elements\n",
    "    arr[-k:] = arr[-k:][::-1]\n",
    "    \n",
    "    # reverse the first n-k element\n",
    "    arr[:-k] = arr[:-k][::-1]\n",
    "    \n",
    "    # reverse the entire array\n",
    "    arr[:] = arr[::-1]\n",
    "    \n",
    "    \n",
    "arr = [1,2,3,4,5,6,7]\n",
    "k = 3\n",
    "\n",
    "rotate_array(arr,k)\n",
    "print(arr)"
   ]
  },
  {
   "cell_type": "markdown",
   "metadata": {},
   "source": [
    "3.Reverse the given array in-place, means without using any extra data structure.\n",
    "arr = [2, 4, 5, 7, 9, 12]"
   ]
  },
  {
   "cell_type": "code",
   "execution_count": 76,
   "metadata": {},
   "outputs": [
    {
     "name": "stdout",
     "output_type": "stream",
     "text": [
      "[12, 9, 7, 5, 4, 2]\n"
     ]
    }
   ],
   "source": [
    "# define function\n",
    "def reverse_arr_inplace(arr):\n",
    "    # base condition\n",
    "    start = 0\n",
    "    end = len(arr)-1\n",
    "    while start < end:\n",
    "        # swapping element at start and end indices\n",
    "        arr[start], arr[end] = arr[end], arr[start]\n",
    "        # move indices towards the center\n",
    "        start +=1\n",
    "        end -=1\n",
    "        \n",
    "# function call\n",
    "arr = [2,4,5,7,9,12]\n",
    "reverse_arr_inplace(arr)\n",
    "print(arr)"
   ]
  },
  {
   "cell_type": "markdown",
   "metadata": {},
   "source": [
    "4. Given an array of integers, find the maximum element in an array\n",
    "arr = [10, 5, 20, 8, 15]"
   ]
  },
  {
   "cell_type": "code",
   "execution_count": 63,
   "metadata": {},
   "outputs": [
    {
     "name": "stdout",
     "output_type": "stream",
     "text": [
      "Maximum element in an array : 20\n"
     ]
    }
   ],
   "source": [
    "def find_max(arr):\n",
    "    if not arr:\n",
    "        return None # return None when array is  empty\n",
    "    # base condition for finding maximum ellement\n",
    "    max_element = arr[0]\n",
    "    for element in arr:\n",
    "        if element > max_element:\n",
    "            max_element = element\n",
    "        \n",
    "    return max_element\n",
    "\n",
    "#function call\n",
    "arr = [10,5,20,8,15]\n",
    "max_element = find_max(arr)\n",
    "print(\"Maximum element in an array :\",max_element)"
   ]
  },
  {
   "cell_type": "markdown",
   "metadata": {},
   "source": [
    "5. Give a sorted array, remove the duplicate element without using any extra data structure.\n",
    "arr = [1, 1, 2, 2, 2, 3, 3, 4, 4, 4, 5, 5]"
   ]
  },
  {
   "cell_type": "code",
   "execution_count": 64,
   "metadata": {},
   "outputs": [
    {
     "name": "stdout",
     "output_type": "stream",
     "text": [
      "[1, 2, 3, 4, 5]\n"
     ]
    }
   ],
   "source": [
    "# define function for removing duplicates element\n",
    "def remove_duplicates(arr):\n",
    "    if not arr:\n",
    "        return 0\n",
    "    \n",
    "    unique_index = 0\n",
    "    for i in range (1, len(arr)):\n",
    "        if arr[i] != arr[unique_index]:\n",
    "            unique_index +=1\n",
    "            arr[unique_index] = arr[i]\n",
    "    return arr[:unique_index +1]\n",
    "\n",
    "#function call\n",
    "arr = [1,1,2,2,2,3,3,4,4,4,5,5]\n",
    "print(remove_duplicates(arr))"
   ]
  },
  {
   "cell_type": "code",
   "execution_count": null,
   "metadata": {},
   "outputs": [],
   "source": []
  }
 ],
 "metadata": {
  "kernelspec": {
   "display_name": "Python 3",
   "language": "python",
   "name": "python3"
  },
  "language_info": {
   "codemirror_mode": {
    "name": "ipython",
    "version": 3
   },
   "file_extension": ".py",
   "mimetype": "text/x-python",
   "name": "python",
   "nbconvert_exporter": "python",
   "pygments_lexer": "ipython3",
   "version": "3.7.6"
  }
 },
 "nbformat": 4,
 "nbformat_minor": 4
}
